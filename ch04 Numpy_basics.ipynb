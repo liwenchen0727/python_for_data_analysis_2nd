{
 "cells": [
  {
   "cell_type": "markdown",
   "id": "homeless-sponsorship",
   "metadata": {},
   "source": [
    "### 4.1 The NumPy ndarray: A Multidimensional Array Object"
   ]
  },
  {
   "cell_type": "markdown",
   "id": "naval-tribute",
   "metadata": {},
   "source": [
    "#### 4.1.1 Creating ndarrays"
   ]
  },
  {
   "cell_type": "code",
   "execution_count": 3,
   "id": "foster-hughes",
   "metadata": {},
   "outputs": [
    {
     "data": {
      "text/plain": [
       "(array([6. , 7.5, 8. , 0. , 1. ]),\n",
       " array([[1, 2, 3, 4],\n",
       "        [5, 6, 7, 8]]))"
      ]
     },
     "execution_count": 3,
     "metadata": {},
     "output_type": "execute_result"
    }
   ],
   "source": [
    "import numpy as np\n",
    "\n",
    "data1 = [6, 7.5, 8, 0, 1]\n",
    "arr1 = np.array(data1)  # convert list to array\n",
    "\n",
    "data2 = [[1, 2, 3, 4], [5, 6, 7, 8]]\n",
    "arr2 = np.array(data2)  # convert list of lists to array\n",
    "\n",
    "arr1, arr2"
   ]
  },
  {
   "cell_type": "code",
   "execution_count": 6,
   "id": "spanish-carpet",
   "metadata": {},
   "outputs": [
    {
     "data": {
      "text/plain": [
       "(2, (2, 4), dtype('int32'))"
      ]
     },
     "execution_count": 6,
     "metadata": {},
     "output_type": "execute_result"
    }
   ],
   "source": [
    "arr2.ndim, arr2.shape, arr2.dtype  # show array dimension (1D, 2D, 3D), array shape (nrow, ncol), array data type (int, float, etc.)"
   ]
  },
  {
   "cell_type": "code",
   "execution_count": 9,
   "id": "given-eclipse",
   "metadata": {},
   "outputs": [
    {
     "data": {
      "text/plain": [
       "array([[[nan],\n",
       "        [nan]],\n",
       "\n",
       "       [[nan],\n",
       "        [nan]],\n",
       "\n",
       "       [[nan],\n",
       "        [nan]]])"
      ]
     },
     "execution_count": 9,
     "metadata": {},
     "output_type": "execute_result"
    }
   ],
   "source": [
    "np.zeros(10)\n",
    "np.ones((3, 6))\n",
    "arr = np.empty((3, 2, 1))  # matrix/array initialization\n",
    "arr[:] = np.nan  # initialize array with NaN\n",
    "arr"
   ]
  },
  {
   "cell_type": "code",
   "execution_count": 4,
   "id": "acting-precipitation",
   "metadata": {},
   "outputs": [
    {
     "data": {
      "text/plain": [
       "(array([ 0,  1,  2,  3,  4,  5,  6,  7,  8,  9, 10, 11, 12, 13, 14]),\n",
       " array([ 1.,  2.,  3.,  4.,  5.,  6.,  7.,  8.,  9., 10.]),\n",
       " array([1, 3, 5, 7, 9]))"
      ]
     },
     "execution_count": 4,
     "metadata": {},
     "output_type": "execute_result"
    }
   ],
   "source": [
    "np.arange(15), np.arange(1, 11.), np.arange(1, 11, 2)"
   ]
  },
  {
   "cell_type": "markdown",
   "id": "commercial-spray",
   "metadata": {},
   "source": [
    "#### 4.1.2 Data Types for ndarrays"
   ]
  },
  {
   "cell_type": "code",
   "execution_count": 12,
   "id": "human-cornell",
   "metadata": {},
   "outputs": [
    {
     "data": {
      "text/plain": [
       "(dtype('float64'), dtype('int32'), dtype('<M8[D]'))"
      ]
     },
     "execution_count": 12,
     "metadata": {},
     "output_type": "execute_result"
    }
   ],
   "source": [
    "arr1 = np.arange(1, 4, dtype=float)\n",
    "arr2 = np.arange(1, 4, dtype=int)\n",
    "arr3 = np.arange('2020-01-01', '2020-01-11', dtype='datetime64')\n",
    "arr1.dtype, arr2.dtype, arr3.dtype"
   ]
  },
  {
   "cell_type": "code",
   "execution_count": 16,
   "id": "private-horizon",
   "metadata": {},
   "outputs": [
    {
     "data": {
      "text/plain": [
       "(dtype('int32'), dtype('float64'))"
      ]
     },
     "execution_count": 16,
     "metadata": {},
     "output_type": "execute_result"
    }
   ],
   "source": [
    "# convert/cast datatype\n",
    "arr = np.arange(1, 6)\n",
    "arr.astype(float)\n",
    "float_arr = arr.astype(float)\n",
    "arr.dtype, float_arr.dtype"
   ]
  },
  {
   "cell_type": "code",
   "execution_count": 17,
   "id": "conceptual-venture",
   "metadata": {},
   "outputs": [
    {
     "data": {
      "text/plain": [
       "array([ 3, -1, -2,  0, 12, 10])"
      ]
     },
     "execution_count": 17,
     "metadata": {},
     "output_type": "execute_result"
    }
   ],
   "source": [
    "arr = np.array([3.7, -1.2, -2.6, 0.5, 12.9, 10.1])\n",
    "arr.astype(int)"
   ]
  },
  {
   "cell_type": "code",
   "execution_count": 22,
   "id": "governing-williams",
   "metadata": {},
   "outputs": [
    {
     "data": {
      "text/plain": [
       "array([ 1.25, -9.6 , 42.  ])"
      ]
     },
     "execution_count": 22,
     "metadata": {},
     "output_type": "execute_result"
    }
   ],
   "source": [
    "numeric_strings = np.array(['1.25', '-9.6', '42'])\n",
    "numeric_strings.astype(float)"
   ]
  },
  {
   "cell_type": "code",
   "execution_count": 23,
   "id": "greater-projection",
   "metadata": {},
   "outputs": [
    {
     "data": {
      "text/plain": [
       "array([0., 1., 2., 3., 4., 5., 6., 7., 8., 9.])"
      ]
     },
     "execution_count": 23,
     "metadata": {},
     "output_type": "execute_result"
    }
   ],
   "source": [
    "# use another array's dtype attribute\n",
    "int_array = np.arange(10)\n",
    "calibers = np.array([.22, .270, .357, .380, .44, .50])\n",
    "int_array.astype(calibers.dtype)"
   ]
  },
  {
   "cell_type": "markdown",
   "id": "golden-sender",
   "metadata": {},
   "source": [
    "#### 4.1.3 Operations between Arrays and Scalars"
   ]
  },
  {
   "cell_type": "code",
   "execution_count": 25,
   "id": "thorough-press",
   "metadata": {},
   "outputs": [
    {
     "data": {
      "text/plain": [
       "(array([[ 1.,  4.,  9.],\n",
       "        [16., 25., 36.]]),\n",
       " array([[0., 0., 0.],\n",
       "        [0., 0., 0.]]),\n",
       " array([[1.        , 0.5       , 0.33333333],\n",
       "        [0.25      , 0.2       , 0.16666667]]),\n",
       " array([[1.        , 1.41421356, 1.73205081],\n",
       "        [2.        , 2.23606798, 2.44948974]]),\n",
       " array([[2., 3., 4.],\n",
       "        [5., 6., 7.]]))"
      ]
     },
     "execution_count": 25,
     "metadata": {},
     "output_type": "execute_result"
    }
   ],
   "source": [
    "arr = np.array([[1., 2., 3.], [4., 5., 6.]])\n",
    "# arithmetic operations are elementwise\n",
    "arr+1, arr*arr, arr-arr, 1/arr, arr**.5"
   ]
  },
  {
   "cell_type": "markdown",
   "id": "international-queen",
   "metadata": {},
   "source": [
    "#### 4.1.4 Basic Indexing and Slicing"
   ]
  },
  {
   "cell_type": "code",
   "execution_count": 82,
   "id": "fourth-hobby",
   "metadata": {},
   "outputs": [],
   "source": [
    "# 1D vector\n",
    "arr = np.arange(10)\n",
    "arr[0], arr[5:8], arr[1:6:2]  # [start(inclusive):stop(exclusive):step]\n",
    "arr[5:8] = 12  # modification propagate to the entire selection"
   ]
  },
  {
   "cell_type": "code",
   "execution_count": 56,
   "id": "cellular-yukon",
   "metadata": {},
   "outputs": [
    {
     "data": {
      "text/plain": [
       "(array([   12, 12345,    12]),\n",
       " array([    0,     1,     2,     3,     4,    12, 12345,    12,     8,\n",
       "            9]))"
      ]
     },
     "execution_count": 56,
     "metadata": {},
     "output_type": "execute_result"
    }
   ],
   "source": [
    "# Array slice vs. List slice (important!)\n",
    "arr_slice = arr[5:8]  # slice of an array is a view of the source array\n",
    "arr_slice[1] = 12345  # modification of the view modifies the source array\n",
    "arr_slice, arr"
   ]
  },
  {
   "cell_type": "code",
   "execution_count": 61,
   "id": "general-letter",
   "metadata": {},
   "outputs": [
    {
     "data": {
      "text/plain": [
       "(array([12, 12, 12]),\n",
       " array([    0,     1,     2,     3,     4,    12, 12345,    12,     8,\n",
       "            9]))"
      ]
     },
     "execution_count": 61,
     "metadata": {},
     "output_type": "execute_result"
    }
   ],
   "source": [
    "arr_slice_copy = arr[5:8].copy()  # a copy of the slice\n",
    "arr_slice_copy[1] = 12\n",
    "arr_slice_copy, arr"
   ]
  },
  {
   "cell_type": "code",
   "execution_count": 58,
   "id": "amateur-entrepreneur",
   "metadata": {},
   "outputs": [
    {
     "data": {
      "text/plain": [
       "([12, 12345, 12], [0, 1, 2, 3, 4, 12, 12, 12, 8, 9])"
      ]
     },
     "execution_count": 58,
     "metadata": {},
     "output_type": "execute_result"
    }
   ],
   "source": [
    "ls = list(range(10))\n",
    "ls[5:8] = [12]*3    # no propagation, must have the same length\n",
    "ls_slice = ls[5:8]  # slice of a list is a copy of the source list\n",
    "ls_slice[1] = 12345  # modification of the elem does not affect the source list\n",
    "ls_slice, ls"
   ]
  },
  {
   "cell_type": "code",
   "execution_count": 63,
   "id": "commercial-editing",
   "metadata": {},
   "outputs": [
    {
     "data": {
      "text/plain": [
       "(array([7, 8, 9]), array([7, 8, 9]))"
      ]
     },
     "execution_count": 63,
     "metadata": {},
     "output_type": "execute_result"
    }
   ],
   "source": [
    "# 2D matrix [[]]\n",
    "arr2d = np.array([[1, 2, 3], [4, 5, 6], [7, 8, 9]])\n",
    "arr2d[2], arr2d[2, :]  # 3rd row"
   ]
  },
  {
   "cell_type": "code",
   "execution_count": 64,
   "id": "musical-perth",
   "metadata": {},
   "outputs": [
    {
     "data": {
      "text/plain": [
       "(3, 3)"
      ]
     },
     "execution_count": 64,
     "metadata": {},
     "output_type": "execute_result"
    }
   ],
   "source": [
    "arr2d[0][2], arr2d[0, 2]  # 1st row, 3rd col"
   ]
  },
  {
   "cell_type": "code",
   "execution_count": 65,
   "id": "stylish-comparison",
   "metadata": {},
   "outputs": [
    {
     "data": {
      "text/plain": [
       "(2, 2, 3)"
      ]
     },
     "execution_count": 65,
     "metadata": {},
     "output_type": "execute_result"
    }
   ],
   "source": [
    "# 3D array [[[]]]\n",
    "arr3d = np.array([[[1, 2, 3], [4, 5, 6]], [[7, 8, 9], [10, 11, 12]]])\n",
    "arr3d.shape  # array number by row number by column number"
   ]
  },
  {
   "cell_type": "code",
   "execution_count": 66,
   "id": "pharmaceutical-reading",
   "metadata": {},
   "outputs": [
    {
     "data": {
      "text/plain": [
       "array([[[42, 42, 42],\n",
       "        [42, 42, 42]],\n",
       "\n",
       "       [[ 7,  8,  9],\n",
       "        [10, 11, 12]]])"
      ]
     },
     "execution_count": 66,
     "metadata": {},
     "output_type": "execute_result"
    }
   ],
   "source": [
    "arr3d[0], arr3d[:, 0, :], arr3d[:, :, 0]  # 1st array, 1st row, 1st col\n",
    "old_values = arr3d[0].copy()\n",
    "arr3d[0] = 42\n",
    "arr3d"
   ]
  },
  {
   "cell_type": "code",
   "execution_count": 67,
   "id": "native-dietary",
   "metadata": {
    "scrolled": true
   },
   "outputs": [
    {
     "data": {
      "text/plain": [
       "array([[[ 1,  2,  3],\n",
       "        [ 4,  5,  6]],\n",
       "\n",
       "       [[ 7,  8,  9],\n",
       "        [10, 11, 12]]])"
      ]
     },
     "execution_count": 67,
     "metadata": {},
     "output_type": "execute_result"
    }
   ],
   "source": [
    "arr3d[0] = old_values\n",
    "arr3d"
   ]
  },
  {
   "cell_type": "code",
   "execution_count": 68,
   "id": "continental-combine",
   "metadata": {},
   "outputs": [
    {
     "data": {
      "text/plain": [
       "array([7, 8, 9])"
      ]
     },
     "execution_count": 68,
     "metadata": {},
     "output_type": "execute_result"
    }
   ],
   "source": [
    "arr3d[1, 0]  # 2nd array, first row"
   ]
  },
  {
   "cell_type": "code",
   "execution_count": 83,
   "id": "taken-spare",
   "metadata": {
    "scrolled": true
   },
   "outputs": [
    {
     "data": {
      "text/plain": [
       "array([ 9,  8, 12, 12, 12,  4,  3,  2,  1,  0])"
      ]
     },
     "execution_count": 83,
     "metadata": {},
     "output_type": "execute_result"
    }
   ],
   "source": [
    "# negative index\n",
    "# arr[-1]  # last element\n",
    "# reverse order\n",
    "arr[::-1]"
   ]
  },
  {
   "cell_type": "code",
   "execution_count": 75,
   "id": "optimum-earth",
   "metadata": {},
   "outputs": [
    {
     "data": {
      "text/plain": [
       "array([[4, 5, 6],\n",
       "       [7, 8, 9]])"
      ]
     },
     "execution_count": 75,
     "metadata": {},
     "output_type": "execute_result"
    }
   ],
   "source": [
    "# Indexing with slices\n",
    "# arr[0:-1]  # all elements excluding the last\n",
    "# arr[1:6]  # 2nd to 6th element\n",
    "# omittion before/after colon : means from the start/to the end\n",
    "# arr2d[:2]  # the first two rows\n",
    "# arr2d[:-1]  # all rows except the last\n",
    "arr2d[-2:]  # the last two rows\n",
    "# arr2d[:2, 1:]  # the first two rows, cols from second to end\n",
    "# arr2d[1, :2]  # mixing integer index and slices gives lower dimension slices\n",
    "# arr2d[:, :1]  # the first col\n",
    "# arr2d[:2, 1:] = 0  # single value propagation to the selection"
   ]
  },
  {
   "cell_type": "markdown",
   "id": "atomic-hacker",
   "metadata": {},
   "source": [
    "#### 4.1.5 Boolean Indexing"
   ]
  },
  {
   "cell_type": "code",
   "execution_count": 78,
   "id": "hungry-contest",
   "metadata": {},
   "outputs": [
    {
     "data": {
      "text/plain": [
       "(array([[ 0.23440277,  0.50625853,  0.82643934,  1.69252751],\n",
       "        [-0.15328094,  1.61768701,  0.62585749,  0.16674748],\n",
       "        [ 0.681843  ,  0.37901256,  1.24884549, -2.24100275],\n",
       "        [-1.26006877, -0.38757339,  1.23076048,  0.6810079 ],\n",
       "        [-0.14679415,  0.9970424 ,  0.99970423, -0.33051553]]),\n",
       " array([[ 0.23440277,  0.50625853,  0.82643934,  1.69252751],\n",
       "        [-0.15328094,  1.61768701,  0.62585749,  0.16674748],\n",
       "        [ 0.681843  ,  0.37901256,  1.24884549, -2.24100275],\n",
       "        [-1.26006877, -0.38757339,  1.23076048,  0.6810079 ],\n",
       "        [-0.14679415,  0.9970424 ,  0.99970423, -0.33051553]]))"
      ]
     },
     "execution_count": 78,
     "metadata": {},
     "output_type": "execute_result"
    }
   ],
   "source": [
    "names = np.array(['Bob', 'Joe', 'Will', 'Bob', 'Will', 'Joe', 'Joe'])\n",
    "data = np.random.randn(7, 4)\n",
    "\n",
    "# names == 'Bob'\n",
    "# data[names == 'Bob']  # filter rows\n",
    "# data[names == 'Bob', :]  # equivalent above\n",
    "# data[np.array([True, False, False, True, False, False, False])]  # above\n",
    "# data[:, np.array([True, False, False, True])]  # filter cols\n",
    "# data[names == 'Bob', 2:]  # fiilter rows & cols\n",
    "# data[names == 'Bob', 3]\n",
    "# names != 'Bob'\n",
    "data[(names != 'Bob')], data[~(names == 'Bob')]\n",
    "\n",
    "# mask = (names == 'Bob') | (names == 'Will')\n",
    "# data[mask]\n",
    "\n",
    "# data[data < 0] = 0\n",
    "# data[data != 0] = np.nan\n",
    "data[np.isnan(data)] = 0\n",
    "# data[names != 'Joe'] = 7"
   ]
  },
  {
   "cell_type": "markdown",
   "id": "underlying-intervention",
   "metadata": {},
   "source": [
    "#### 4.1.6 Fancy Indexing"
   ]
  },
  {
   "cell_type": "code",
   "execution_count": null,
   "id": "outside-uzbekistan",
   "metadata": {},
   "outputs": [],
   "source": [
    "arr = np.empty((8, 4))\n",
    "for i in range(8):\n",
    "    arr[i] = i\n",
    "arr[[4, 3, 0, 6]]  # rearrange rows in a particular order\n",
    "arr[[-3, -5, -7]]  # rows from the end\n",
    "\n",
    "arr2 = np.empty((8, 4))\n",
    "for i in range(4):\n",
    "    arr2[:, i] = i\n",
    "arr2[:, :2]  # the first two cols\n",
    "arr2[:, [1, 3, 0, 2]]  # cols in a particular order\n",
    "arr2[:, ::-1]  # cols in an inverse order\n",
    "\n",
    "# more on reshape in Chapter 12\n",
    "arr = np.arange(32).reshape((8, 4))\n",
    "arr[[1, 5, 7, 2], [0, 3, 1, 2]]  # select 4 corner elements (1,0), (5,3), (7,1), (2,2)\n",
    "arr[[1, 5, 7, 2]][:, [0, 3, 1, 2]]  # select subset of rows and cols\n",
    "arr[np.ix_([1, 5, 7, 2], [0, 3, 1, 2])]  # alternatively"
   ]
  },
  {
   "cell_type": "markdown",
   "id": "progressive-commitment",
   "metadata": {},
   "source": [
    "#### 4.1.7 Transposing Arrays and Swapping Axes"
   ]
  },
  {
   "cell_type": "code",
   "execution_count": 80,
   "id": "ethical-worse",
   "metadata": {
    "scrolled": true
   },
   "outputs": [
    {
     "data": {
      "text/plain": [
       "(array([[[ 0,  1,  2,  3],\n",
       "         [ 4,  5,  6,  7],\n",
       "         [ 8,  9, 10, 11]],\n",
       " \n",
       "        [[12, 13, 14, 15],\n",
       "         [16, 17, 18, 19],\n",
       "         [20, 21, 22, 23]]]),\n",
       " array([[[ 0,  1,  2,  3],\n",
       "         [12, 13, 14, 15]],\n",
       " \n",
       "        [[ 4,  5,  6,  7],\n",
       "         [16, 17, 18, 19]],\n",
       " \n",
       "        [[ 8,  9, 10, 11],\n",
       "         [20, 21, 22, 23]]]))"
      ]
     },
     "execution_count": 80,
     "metadata": {},
     "output_type": "execute_result"
    }
   ],
   "source": [
    "# arr = np.arange(15).reshape((3, 5))\n",
    "# arr.T, arr.transpose()\n",
    "# arr = randn(6, 3)\n",
    "# np.dot(arr.T, arr)\n",
    "arr = np.arange(24).reshape((2, 3, 4))\n",
    "arr, arr.transpose((1, 0, 2))\n",
    "# arr.swapaxes(0, 1)"
   ]
  },
  {
   "cell_type": "markdown",
   "id": "alert-kentucky",
   "metadata": {},
   "source": [
    "### 4.2 Universal Functions: Fast Element-wise Array Functions"
   ]
  },
  {
   "cell_type": "code",
   "execution_count": 112,
   "id": "varied-median",
   "metadata": {},
   "outputs": [
    {
     "data": {
      "text/plain": [
       "(array([ True,  True,  True,  True, False, False,  True, False]),\n",
       " array([ True,  True,  True,  True, False, False,  True, False]))"
      ]
     },
     "execution_count": 112,
     "metadata": {},
     "output_type": "execute_result"
    }
   ],
   "source": [
    "# arr = np.arange(9).reshape((3, 3))\n",
    "# np.sqrt(arr), np.exp(arr)\n",
    "x = np.random.randn(8)\n",
    "y = np.random.randn(8)\n",
    "# x, y, np.maximum(x, y)  # return larger elements\n",
    "x > y, np.greater(x, y)  # return logical 1 0 of comparison results\n",
    "# arr = randn(7) * 5\n",
    "# divmod(7.5, 2)  # quotient and remainder part of a number (float is OK)\n",
    "# np.modf(arr)  # fractional and integral part of floating point array"
   ]
  },
  {
   "cell_type": "markdown",
   "id": "super-sponsorship",
   "metadata": {},
   "source": [
    "### 4.3 Data Processing Using Arrays"
   ]
  },
  {
   "cell_type": "code",
   "execution_count": 87,
   "id": "noble-polyester",
   "metadata": {},
   "outputs": [
    {
     "data": {
      "text/plain": [
       "Text(0.5, 1.0, 'Image plot of $\\\\sqrt{x^2 + y^2}$ for a grid of values')"
      ]
     },
     "execution_count": 87,
     "metadata": {},
     "output_type": "execute_result"
    },
    {
     "data": {
      "image/png": "[encoded data removed]",
      "text/plain": [
       "<Figure size 432x288 with 2 Axes>"
      ]
     },
     "metadata": {
      "needs_background": "light"
     },
     "output_type": "display_data"
    }
   ],
   "source": [
    "import matplotlib.pyplot as plt\n",
    "\n",
    "points = np.arange(-5, 5, 1)  # 10 equally spaced points\n",
    "xs, ys = np.meshgrid(points, points)  # xs: copy points by rows, ys: by cols\n",
    "z = np.sqrt(xs ** 2 + ys ** 2)\n",
    "plt.imshow(z, cmap=plt.cm.gray)\n",
    "plt.colorbar()\n",
    "plt.title('Image plot of $\\sqrt{x^2 + y^2}$ for a grid of values')"
   ]
  },
  {
   "cell_type": "markdown",
   "id": "defined-valentine",
   "metadata": {},
   "source": [
    "#### 4.3.1 Expressing Conditional Logic as Array Operations"
   ]
  },
  {
   "cell_type": "code",
   "execution_count": 90,
   "id": "suited-swimming",
   "metadata": {},
   "outputs": [
    {
     "data": {
      "text/plain": [
       "array([1.1, 2.2, 1.3, 1.4, 2.5])"
      ]
     },
     "execution_count": 90,
     "metadata": {},
     "output_type": "execute_result"
    }
   ],
   "source": [
    "xarr = np.array([1.1, 1.2, 1.3, 1.4, 1.5])\n",
    "yarr = np.array([2.1, 2.2, 2.3, 2.4, 2.5])\n",
    "cond = np.array([True, False, True, True, False])\n",
    "# result = [x if c else y for x, y, c in zip(xarr, yarr, cond)]\n",
    "result = np.where(cond, xarr, yarr)\n",
    "result\n",
    "# arr = randn(4, 4)\n",
    "# np.where(arr > 0, 2, -2)\n",
    "# np.where(arr > 0, 2, arr)  # set only positive values to 2"
   ]
  },
  {
   "cell_type": "markdown",
   "id": "aggregate-luxembourg",
   "metadata": {},
   "source": [
    "#### 4.3.2 Mathematical and Statistical Methods"
   ]
  },
  {
   "cell_type": "code",
   "execution_count": null,
   "id": "informative-counter",
   "metadata": {},
   "outputs": [],
   "source": [
    "arr = np.random.randn(5, 4)\n",
    "arr.mean(), np.mean(arr)  # array mean\n",
    "arr.sum()  # array sum\n",
    "arr.sum(axis=0), arr.sum(0)  # col sum\n",
    "arr.mean(axis=1), arr.mean(1)  # row mean\n",
    "arr = np.array([[0, 1, 2], [3, 4, 5], [6, 7, 8]])\n",
    "arr.cumsum(0)  # col cumsum\n",
    "arr.cumprod(1)  # row cumprod"
   ]
  },
  {
   "cell_type": "markdown",
   "id": "numerical-newport",
   "metadata": {},
   "source": [
    "#### 4.3.3 Methods for Boolean Arrays"
   ]
  },
  {
   "cell_type": "code",
   "execution_count": null,
   "id": "intellectual-click",
   "metadata": {},
   "outputs": [],
   "source": [
    "arr = np.random.randn(10)\n",
    "(arr > 0).sum()  # Number of positive values\n",
    "arr[arr > 0] = 0\n",
    "arr.any()  # True if any of the elements of a evaluate is nonzero\n",
    "arr.all()  # True if all of the elements of a evaluate is nonzero\n",
    "bools = np.array([False, False, True, False])\n",
    "bools.any()  # True if any of the elements of a evaluate to True\n",
    "bools.all()  # True if all of the elements of a evaluate to True\n",
    "arr2 = np.random.randn(3, 4)\n",
    "arr2[arr2 > 0] = 0\n",
    "arr2.any(axis=0)  # True if any cols contain nonzero elements"
   ]
  },
  {
   "cell_type": "code",
   "execution_count": 92,
   "id": "southern-origin",
   "metadata": {},
   "outputs": [
    {
     "data": {
      "text/plain": [
       "(array([0, 2], dtype=int64),)"
      ]
     },
     "execution_count": 92,
     "metadata": {},
     "output_type": "execute_result"
    }
   ],
   "source": [
    "# Ex1: retrieve the index of rows containing zero(s)\n",
    "arr2d = np.array([np.zeros(3), np.ones(3), np.arange(-1, 2)])\n",
    "# np.where(~arr2d.all(1))\n",
    "np.nonzero(~arr2d.all(1))  # Alternatively\n",
    "\n",
    "# Ex2: filter rows with all zeros\n",
    "# arr2d[~arr2d.any(1)]"
   ]
  },
  {
   "cell_type": "markdown",
   "id": "coordinate-medicine",
   "metadata": {},
   "source": [
    "#### 4.3.4 Sorting"
   ]
  },
  {
   "cell_type": "code",
   "execution_count": 94,
   "id": "classified-champagne",
   "metadata": {},
   "outputs": [
    {
     "data": {
      "text/plain": [
       "array([-0.67339241, -0.58096307, -0.36206701,  0.2854969 ,  0.54669894,\n",
       "        0.60181744,  0.60694625,  1.68222801])"
      ]
     },
     "execution_count": 94,
     "metadata": {},
     "output_type": "execute_result"
    }
   ],
   "source": [
    "arr = np.random.randn(8)\n",
    "arr, np.sort(arr), sorted(arr)  # sort array in place, copy and sort array, copy, sort and convert to list"
   ]
  },
  {
   "cell_type": "code",
   "execution_count": null,
   "id": "identical-netscape",
   "metadata": {},
   "outputs": [],
   "source": [
    "arr = np.random.randn(5, 3)\n",
    "arr.sort(axis=1)  # sort by row\n",
    "large_arr = randn(1000)\n",
    "large_arr.sort()\n",
    "np.sort(large_arr)  # create a copy and sort array\n",
    "large_arr[int(0.05 * len(large_arr))]  # 5% quantile"
   ]
  },
  {
   "cell_type": "markdown",
   "id": "thick-option",
   "metadata": {},
   "source": [
    "#### 4.3.5 Unique and Other Set Logic"
   ]
  },
  {
   "cell_type": "code",
   "execution_count": null,
   "id": "medieval-bunch",
   "metadata": {},
   "outputs": [],
   "source": [
    "names = np.array(['Bob', 'Joe', 'Will', 'Bob', 'Will', 'Joe', 'Joe'])\n",
    "np.unique(names)  # unique sorted values in an array\n",
    "sorted(set(names))  # pure Python counterpart of np.unique()\n",
    "ints = np.array([3, 3, 3, 2, 2, 1, 1, 4, 4])\n",
    "np.unique(ints)\n",
    "\n",
    "values = np.array([6, 0, 0, 3, 2, 5, 6])\n",
    "np.in1d(values, [2, 3, 6])\n",
    "np.isin(values, [2, 3, 6])\n",
    "np.setdiff1d(values, [2, 3, 6])"
   ]
  },
  {
   "cell_type": "markdown",
   "id": "prerequisite-leonard",
   "metadata": {},
   "source": [
    "### 4.4 File Input and Output with Arrays"
   ]
  },
  {
   "cell_type": "markdown",
   "id": "casual-spectacular",
   "metadata": {},
   "source": [
    "#### 4.4.1 Storing Arrays on Disk in Binary Format"
   ]
  },
  {
   "cell_type": "code",
   "execution_count": null,
   "id": "least-reggae",
   "metadata": {},
   "outputs": [],
   "source": [
    "arr = np.arange(10)\n",
    "np.save('some_array', arr)\n",
    "np.load('some_array.npy')\n",
    "\n",
    "# store multiple arrays\n",
    "arr1 = np.arange(3)\n",
    "arr2 = np.arange(4)\n",
    "np.savez('array_archive.npz', a=arr1, b=arr2)\n",
    "arch = np.load('array_archive.npz')\n",
    "arch['a'], arch['b']"
   ]
  },
  {
   "cell_type": "markdown",
   "id": "critical-dollar",
   "metadata": {},
   "source": [
    "#### 4.4.2 Saving and Loading Text Files"
   ]
  },
  {
   "cell_type": "code",
   "execution_count": 109,
   "id": "received-vancouver",
   "metadata": {},
   "outputs": [
    {
     "name": "stdout",
     "output_type": "stream",
     "text": [
      "5.800520000000000120e-01,1.867300000000000071e-01,1.040716999999999892e+00,1.134411000000000058e+00\n",
      "1.941630000000000023e-01,-6.369169999999999554e-01,-9.386590000000000211e-01,1.240939999999999960e-01\n",
      "-1.264099999999999946e-01,2.686069999999999847e-01,-6.957240000000000091e-01,4.742799999999999794e-02\n",
      "-1.484412999999999982e+00,4.176000000000000024e-03,-7.442029999999999479e-01,5.486999999999999690e-03\n",
      "2.302868999999999833e+00,2.001310000000000033e-01,1.670237999999999889e+00,-1.881089999999999929e+00\n",
      "-1.932300000000000129e-01,1.047233000000000080e+00,4.828029999999999822e-01,9.603340000000000209e-01\n"
     ]
    }
   ],
   "source": [
    "!type .\\Scripts\\array_ex.txt\n",
    "arr = np.loadtxt('array_ex.txt', delimiter=',')\n",
    "np.savetxt('array_ex.txt', arr, delimiter=',')"
   ]
  },
  {
   "cell_type": "markdown",
   "id": "exempt-sixth",
   "metadata": {},
   "source": [
    "### 4.5 Linear Algebra"
   ]
  },
  {
   "cell_type": "code",
   "execution_count": null,
   "id": "mediterranean-pursuit",
   "metadata": {},
   "outputs": [],
   "source": [
    "x = np.array([[1., 2., 3.], [4., 5., 6.]])\n",
    "y = np.array([[6., 23.], [-1, 7], [8, 9]])\n",
    "x.dot(y)  # equivalently np.dot(x, y)\n",
    "np.dot(x, np.ones(3))\n",
    "\n",
    "X = randn(5, 5)\n",
    "mat = X.T.dot(X)\n",
    "np.linalg.inv(mat)\n",
    "mat.dot(np.linalg.inv(mat))\n",
    "q, r = np.linalg.qr(mat)"
   ]
  },
  {
   "cell_type": "markdown",
   "id": "promotional-recovery",
   "metadata": {},
   "source": [
    "### 4.6 Random Number Generation"
   ]
  },
  {
   "cell_type": "code",
   "execution_count": null,
   "id": "damaged-tours",
   "metadata": {},
   "outputs": [],
   "source": [
    "import random\n",
    "\n",
    "# samples = np.random.normal(size=(4, 4))\n",
    "\n",
    "N = 1000000\n",
    "# Python built-in normalvariate (generate one random number at a time)\n",
    "%timeit samples = [random.normalvariate(0, 1) for _ in range(N)]\n",
    "# Numpy normal (generate array of random numbers much faster)\n",
    "%timeit normal(size=N)"
   ]
  },
  {
   "cell_type": "markdown",
   "id": "physical-conducting",
   "metadata": {},
   "source": [
    "### 4.7 Example: Random Walks"
   ]
  },
  {
   "cell_type": "code",
   "execution_count": null,
   "id": "hearing-rebel",
   "metadata": {},
   "outputs": [],
   "source": [
    "# Random walk python\n",
    "position = 0\n",
    "walk = [position]\n",
    "steps = 10\n",
    "for i in range(steps):\n",
    "    step = 1 if random.randint(0, 2) else -1  # if randint(0, 2) means if True/False\n",
    "    position += step\n",
    "    walk.append(position)\n",
    "\n",
    "# Random walk numpy\n",
    "nsteps = 1000\n",
    "draws = np.random.randint(0, 2, size=nsteps)  # 0 inclusive, 2 exclusive\n",
    "steps = np.where(draws > 0, 1, -1)\n",
    "walk = steps.cumsum()\n",
    "walk.min(), walk.max()\n",
    "(np.abs(walk) >= 10).argmax()  # number of steps taken for walk >= 10"
   ]
  },
  {
   "cell_type": "markdown",
   "id": "mature-playlist",
   "metadata": {},
   "source": [
    "#### 4.7.1 Simulating Many Random Walks at once"
   ]
  },
  {
   "cell_type": "code",
   "execution_count": null,
   "id": "arranged-conjunction",
   "metadata": {},
   "outputs": [],
   "source": [
    "nwalks = 5000\n",
    "nsteps = 1000\n",
    "draws = np.random.randint(0, 2, size=(nwalks, nsteps))\n",
    "steps = np.where(draws > 0, 1, -1)\n",
    "walks = steps.cumsum(1)\n",
    "walks.min(1), walks.max(1)\n",
    "hits30 = (np.abs(walks) >= 30).any(1)  # check if any walk >= 30\n",
    "hits30.sum()  # number of Trues\n",
    "crossing_times = (np.abs(walks[hits30]) >= 30).argmax(1)\n",
    "crossing_times.mean()\n",
    "\n",
    "steps = np.random.normal(loc=0, scale=0.25, size=(nwalks, nsteps))"
   ]
  }
 ],
 "metadata": {
  "kernelspec": {
   "display_name": "Python 3",
   "language": "python",
   "name": "python3"
  },
  "language_info": {
   "codemirror_mode": {
    "name": "ipython",
    "version": 3
   },
   "file_extension": ".py",
   "mimetype": "text/x-python",
   "name": "python",
   "nbconvert_exporter": "python",
   "pygments_lexer": "ipython3",
   "version": "3.7.4"
  }
 },
 "nbformat": 4,
 "nbformat_minor": 5
}
